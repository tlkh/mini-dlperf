{
 "cells": [
  {
   "cell_type": "code",
   "execution_count": 1,
   "metadata": {},
   "outputs": [
    {
     "data": {
      "text/plain": [
       "{'0000:07:00.0,Tesla V100-DGXS-16GB': 'computeCapability: 7.0 coreClock: 1.53GHz coreCount: 80 deviceMemorySize: 15.78GiB deviceMemoryBandwidth: 836.37GiB/s',\n",
       " '0000:08:00.0,Tesla V100-DGXS-16GB': 'computeCapability: 7.0 coreClock: 1.53GHz coreCount: 80 deviceMemorySize: 15.78GiB deviceMemoryBandwidth: 836.37GiB/s',\n",
       " '0000:0e:00.0,Tesla V100-DGXS-16GB': 'computeCapability: 7.0 coreClock: 1.53GHz coreCount: 80 deviceMemorySize: 15.78GiB deviceMemoryBandwidth: 836.37GiB/s',\n",
       " '0000:0f:00.0,Tesla V100-DGXS-16GB': 'computeCapability: 7.0 coreClock: 1.53GHz coreCount: 80 deviceMemorySize: 15.78GiB deviceMemoryBandwidth: 836.37GiB/s'}"
      ]
     },
     "execution_count": 1,
     "metadata": {},
     "output_type": "execute_result"
    }
   ],
   "source": [
    "import time\n",
    "import pandas as pd\n",
    "from common import utils\n",
    "utils.get_gpu_info()"
   ]
  },
  {
   "cell_type": "code",
   "execution_count": 14,
   "metadata": {},
   "outputs": [],
   "source": [
    "_ = utils.run_command(\"nvidia-smi nvlink -sc 0bz\")"
   ]
  },
  {
   "cell_type": "markdown",
   "metadata": {},
   "source": [
    "# DL Benchmarks Runner\n",
    "\n",
    "* Configuration: Computer vision, <10GB VRAM\n",
    "\n",
    "* Adjust `threads = XX` below according to your CPU (suggested to leave 1C/2T for OS/background tasks)"
   ]
  },
  {
   "cell_type": "code",
   "execution_count": 3,
   "metadata": {},
   "outputs": [],
   "source": [
    "threads = 30"
   ]
  },
  {
   "cell_type": "code",
   "execution_count": 4,
   "metadata": {},
   "outputs": [],
   "source": [
    "threads = str(int(threads))\n",
    "start_time = time.time()"
   ]
  },
  {
   "cell_type": "markdown",
   "metadata": {},
   "source": [
    "## Image Classification (ResNet-50 MLPerf model)\n",
    "\n",
    "ResNet-50 identical to the MLPerf reference implementation and is one of the most common benchmarks performed."
   ]
  },
  {
   "cell_type": "markdown",
   "metadata": {},
   "source": [
    "**No image augmentation (GPU limited)**"
   ]
  },
  {
   "cell_type": "code",
   "execution_count": 5,
   "metadata": {},
   "outputs": [
    {
     "name": "stdout",
     "output_type": "stream",
     "text": [
      "Running: rn50\n",
      "rn50,PASS,2674.6,64,41,4,0.7,55,167,49,9.7,3.2,[]\n"
     ]
    }
   ],
   "source": [
    "exp_name = \"rn50\"\n",
    "print(\"Running:\", exp_name)\n",
    "results = utils.run_command(\"python3 run_cnn.py --threads \"+threads+\" --batch_size 64\")\n",
    "if results[-1].split(\",\")[0] == \"PASS\":\n",
    "    rn50_10gb = exp_name + \",\" + results[-1]\n",
    "    print(rn50_10gb)\n",
    "else:\n",
    "    print(exp_name, \"FAIL\")"
   ]
  },
  {
   "cell_type": "markdown",
   "metadata": {},
   "source": [
    "**Image augmentation used (CPU limited)**"
   ]
  },
  {
   "cell_type": "code",
   "execution_count": 6,
   "metadata": {},
   "outputs": [
    {
     "name": "stdout",
     "output_type": "stream",
     "text": [
      "Running: rn50_imgaug\n",
      "rn50_imgaug,PASS,2534.3,62,39,5,0.8,53,161,48,9.7,3.0,[]\n"
     ]
    }
   ],
   "source": [
    "exp_name = \"rn50_imgaug\"\n",
    "print(\"Running:\", exp_name)\n",
    "results = utils.run_command(\"python3 run_cnn.py --threads \"+threads+\" --batch_size 64 --img_aug\")\n",
    "if results[-1].split(\",\")[0] == \"PASS\":\n",
    "    rn50_imgaug_10gb = exp_name + \",\" + results[-1]\n",
    "    print(rn50_imgaug_10gb)\n",
    "else:\n",
    "    print(exp_name, \"FAIL\")"
   ]
  },
  {
   "cell_type": "markdown",
   "metadata": {},
   "source": [
    "## Image Classification (CNN Stress-test Model)\n",
    "\n",
    "Large, compute heavy CNN to perform a stress-test of the GPU compute."
   ]
  },
  {
   "cell_type": "code",
   "execution_count": 7,
   "metadata": {},
   "outputs": [
    {
     "name": "stdout",
     "output_type": "stream",
     "text": [
      "Running: hugecnn-10gb\n",
      "hugecnn-10gb,PASS,2001.3,90,34,13,2.1,77,232,53,9.7,14.7,[]\n"
     ]
    }
   ],
   "source": [
    "exp_name = \"hugecnn-10gb\"\n",
    "print(\"Running:\", exp_name)\n",
    "results = utils.run_command(\"python3 run_cnn.py --threads \"+threads+\" --batch_size 64 --huge_cnn\")\n",
    "if results[-1].split(\",\")[0] == \"PASS\":\n",
    "    hugecnn_10gb = exp_name + \",\" + results[-1]\n",
    "    print(hugecnn_10gb)\n",
    "else:\n",
    "    print(exp_name, \"FAIL\")"
   ]
  },
  {
   "cell_type": "code",
   "execution_count": 8,
   "metadata": {},
   "outputs": [
    {
     "name": "stdout",
     "output_type": "stream",
     "text": [
      "Total time taken: 599 seconds.\n"
     ]
    }
   ],
   "source": [
    "end_time = time.time()\n",
    "print(\"Total time taken:\", int(end_time-start_time), \"seconds.\")"
   ]
  },
  {
   "cell_type": "markdown",
   "metadata": {},
   "source": [
    "# Export Results\n",
    "\n",
    "Values reported are for GPU 0 (first GPU), except for NVLink which is average TX+RX across all GPUs"
   ]
  },
  {
   "cell_type": "code",
   "execution_count": 11,
   "metadata": {},
   "outputs": [],
   "source": [
    "cols = [\"name\", \"passed\", \"avg_fps\", \"avg_sm_%\", \"avg_mem_io_%\", \"avg_pcie_%\", \"pcie_gbps\", \"avg_pwr_%\", \"pwr_watts\", \"avg_temp\", \"max_vram\", \"avg_nvlink\", \"throttle\"]\n",
    "df = pd.DataFrame([rn50_10gb.split(\",\"), rn50_imgaug_10gb.split(\",\"), hugecnn_10gb.split(\",\")], \n",
    "                  columns=cols) "
   ]
  },
  {
   "cell_type": "code",
   "execution_count": 12,
   "metadata": {},
   "outputs": [
    {
     "data": {
      "text/html": [
       "<div>\n",
       "<style scoped>\n",
       "    .dataframe tbody tr th:only-of-type {\n",
       "        vertical-align: middle;\n",
       "    }\n",
       "\n",
       "    .dataframe tbody tr th {\n",
       "        vertical-align: top;\n",
       "    }\n",
       "\n",
       "    .dataframe thead th {\n",
       "        text-align: right;\n",
       "    }\n",
       "</style>\n",
       "<table border=\"1\" class=\"dataframe\">\n",
       "  <thead>\n",
       "    <tr style=\"text-align: right;\">\n",
       "      <th></th>\n",
       "      <th>name</th>\n",
       "      <th>passed</th>\n",
       "      <th>avg_fps</th>\n",
       "      <th>avg_sm_%</th>\n",
       "      <th>avg_mem_io_%</th>\n",
       "      <th>avg_pcie_%</th>\n",
       "      <th>pcie_gbps</th>\n",
       "      <th>avg_pwr_%</th>\n",
       "      <th>pwr_watts</th>\n",
       "      <th>avg_temp</th>\n",
       "      <th>max_vram</th>\n",
       "      <th>avg_nvlink</th>\n",
       "      <th>throttle</th>\n",
       "    </tr>\n",
       "  </thead>\n",
       "  <tbody>\n",
       "    <tr>\n",
       "      <th>0</th>\n",
       "      <td>rn50</td>\n",
       "      <td>PASS</td>\n",
       "      <td>2674.6</td>\n",
       "      <td>64</td>\n",
       "      <td>41</td>\n",
       "      <td>4</td>\n",
       "      <td>0.7</td>\n",
       "      <td>55</td>\n",
       "      <td>167</td>\n",
       "      <td>49</td>\n",
       "      <td>9.7</td>\n",
       "      <td>3.2</td>\n",
       "      <td>[]</td>\n",
       "    </tr>\n",
       "    <tr>\n",
       "      <th>1</th>\n",
       "      <td>rn50_imgaug</td>\n",
       "      <td>PASS</td>\n",
       "      <td>2534.3</td>\n",
       "      <td>62</td>\n",
       "      <td>39</td>\n",
       "      <td>5</td>\n",
       "      <td>0.8</td>\n",
       "      <td>53</td>\n",
       "      <td>161</td>\n",
       "      <td>48</td>\n",
       "      <td>9.7</td>\n",
       "      <td>3.0</td>\n",
       "      <td>[]</td>\n",
       "    </tr>\n",
       "    <tr>\n",
       "      <th>2</th>\n",
       "      <td>hugecnn-10gb</td>\n",
       "      <td>PASS</td>\n",
       "      <td>2001.3</td>\n",
       "      <td>90</td>\n",
       "      <td>34</td>\n",
       "      <td>13</td>\n",
       "      <td>2.1</td>\n",
       "      <td>77</td>\n",
       "      <td>232</td>\n",
       "      <td>53</td>\n",
       "      <td>9.7</td>\n",
       "      <td>14.7</td>\n",
       "      <td>[]</td>\n",
       "    </tr>\n",
       "  </tbody>\n",
       "</table>\n",
       "</div>"
      ],
      "text/plain": [
       "           name passed avg_fps avg_sm_% avg_mem_io_% avg_pcie_% pcie_gbps  \\\n",
       "0          rn50   PASS  2674.6       64           41          4       0.7   \n",
       "1   rn50_imgaug   PASS  2534.3       62           39          5       0.8   \n",
       "2  hugecnn-10gb   PASS  2001.3       90           34         13       2.1   \n",
       "\n",
       "  avg_pwr_% pwr_watts avg_temp max_vram avg_nvlink throttle  \n",
       "0        55       167       49      9.7        3.2       []  \n",
       "1        53       161       48      9.7        3.0       []  \n",
       "2        77       232       53      9.7       14.7       []  "
      ]
     },
     "execution_count": 12,
     "metadata": {},
     "output_type": "execute_result"
    }
   ],
   "source": [
    "df.head()"
   ]
  },
  {
   "cell_type": "code",
   "execution_count": null,
   "metadata": {},
   "outputs": [],
   "source": []
  }
 ],
 "metadata": {
  "kernelspec": {
   "display_name": "Python 3",
   "language": "python",
   "name": "python3"
  },
  "language_info": {
   "codemirror_mode": {
    "name": "ipython",
    "version": 3
   },
   "file_extension": ".py",
   "mimetype": "text/x-python",
   "name": "python",
   "nbconvert_exporter": "python",
   "pygments_lexer": "ipython3",
   "version": "3.6.9"
  }
 },
 "nbformat": 4,
 "nbformat_minor": 4
}
