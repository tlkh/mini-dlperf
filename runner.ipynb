{
 "cells": [
  {
   "cell_type": "code",
   "execution_count": 1,
   "metadata": {},
   "outputs": [],
   "source": [
    "import os\n",
    "\n",
    "def run_command(command):\n",
    "    stream = os.popen(command)\n",
    "    raw_output = stream.read().split(\"\\n\")\n",
    "    output = []\n",
    "    for o in raw_output:\n",
    "        if \"<stdout>:\" in o:\n",
    "            o = o.split(\"<stdout>:\")[-1]\n",
    "        if len(o) > 0:\n",
    "            output.append(o)\n",
    "    return output"
   ]
  },
  {
   "cell_type": "code",
   "execution_count": 7,
   "metadata": {},
   "outputs": [
    {
     "data": {
      "text/plain": [
       "['NCCL version 2.7.8+cuda11.0',\n",
       " 'Number of logical cores: 6',\n",
       " 'Number of threads used for dataloader: 6',\n",
       " 'Using XLA: True',\n",
       " 'Using grappler AMP: True',\n",
       " 'Number of devices: 2',\n",
       " 'Global batch size: 160',\n",
       " 'Base learning rate: 0.1',\n",
       " 'Loading Dataset',\n",
       " 'Using TFDS dataset: imagenette/160px',\n",
       " 'Found 10 classes in imagenette/160px',\n",
       " 'Found training examples: 12894',\n",
       " 'Found validation examples: 500',\n",
       " 'Train output: <TakeDataset shapes: ((), ()), types: (tf.string, tf.int64)>',\n",
       " 'Valid output: <TakeDataset shapes: ((), ()), types: (tf.string, tf.int64)>',\n",
       " 'Took 0 seconds to return dataset',\n",
       " 'Build tf.data input pipeline',\n",
       " 'Running pipelines:',\n",
       " '* Image shape: (160, 224, 224, 3)',\n",
       " '* Image size: 7295',\n",
       " '* Label shape: (160,)',\n",
       " '* Image shape: (160, 224, 224, 3)',\n",
       " '* Image size: 9239',\n",
       " '* Label shape: (160,)',\n",
       " '* Image shape: (250, 224, 224, 3)',\n",
       " '* Image size: 7295',\n",
       " '* Label shape: (250,)',\n",
       " '* Image shape: (250, 224, 224, 3)',\n",
       " '* Image size: 7295',\n",
       " '* Label shape: (250,)',\n",
       " 'Build and distribute model',\n",
       " 'Using ResNet-50 MLPerf model',\n",
       " 'Train model',\n",
       " 'Verbose level: 2',\n",
       " 'You will not see progress during training!',\n",
       " \"'SUDO_PASSWORD'\",\n",
       " 'No sudo access, not recording Tensor Core and NVLink utilization',\n",
       " 'Start training',\n",
       " 'Epoch 1/4',\n",
       " 'Detected GPU throttle: SwPowerCap',\n",
       " 'Detected GPU throttle: SwPowerCap',\n",
       " 'Detected GPU throttle: SwPowerCap',\n",
       " 'Detected GPU throttle: SwPowerCap',\n",
       " 'Detected GPU throttle: SwPowerCap',\n",
       " 'Detected GPU throttle: SwPowerCap',\n",
       " '200/200 - 49s - loss: 11.7813',\n",
       " 'Epoch 2/4',\n",
       " 'Detected GPU throttle: SwPowerCap',\n",
       " 'Detected GPU throttle: SwPowerCap',\n",
       " 'Detected GPU throttle: SwPowerCap',\n",
       " 'Detected GPU throttle: SwPowerCap',\n",
       " 'Detected GPU throttle: SwPowerCap',\n",
       " 'Detected GPU throttle: SwPowerCap',\n",
       " 'Detected GPU throttle: SwPowerCap',\n",
       " 'Detected GPU throttle: SwPowerCap',\n",
       " 'Detected GPU throttle: SwPowerCap',\n",
       " 'Detected GPU throttle: SwPowerCap',\n",
       " '200/200 - 23s - loss: 9.5608',\n",
       " 'Epoch 3/4',\n",
       " 'Detected GPU throttle: SwPowerCap',\n",
       " 'Detected GPU throttle: SwPowerCap',\n",
       " 'Detected GPU throttle: SwPowerCap',\n",
       " 'Detected GPU throttle: SwPowerCap',\n",
       " '200/200 - 23s - loss: 8.7465',\n",
       " 'Epoch 4/4',\n",
       " 'Detected GPU throttle: SwPowerCap',\n",
       " 'Detected GPU throttle: SwPowerCap',\n",
       " 'Detected GPU throttle: SwPowerCap',\n",
       " 'Detected GPU throttle: SwPowerCap',\n",
       " 'Detected GPU throttle: SwPowerCap',\n",
       " 'Detected GPU throttle: SwPowerCap',\n",
       " 'Detected GPU throttle: SwPowerCap',\n",
       " 'Detected GPU throttle: SwPowerCap',\n",
       " 'Detected GPU throttle: SwPowerCap',\n",
       " 'Detected GPU throttle: SwPowerCap',\n",
       " '200/200 - 23s - loss: 8.0067',\n",
       " 'Results:',\n",
       " \"1393.9,93,59,41,3.3,80,201,70,11.8,['SwPowerCap']\"]"
      ]
     },
     "execution_count": 7,
     "metadata": {},
     "output_type": "execute_result"
    }
   ],
   "source": [
    "run_command(\"python3 run_cnn.py\")"
   ]
  },
  {
   "cell_type": "code",
   "execution_count": null,
   "metadata": {},
   "outputs": [],
   "source": [
    "run_command(\"horovodrun -np 2 python3 run_t5.py --model t5-small --batch_size 8\")"
   ]
  },
  {
   "cell_type": "code",
   "execution_count": null,
   "metadata": {},
   "outputs": [],
   "source": [
    "run_command(\"horovodrun -np 2 python3 run_t5.py --model t5-base --batch_size 2\")"
   ]
  },
  {
   "cell_type": "code",
   "execution_count": null,
   "metadata": {},
   "outputs": [],
   "source": []
  }
 ],
 "metadata": {
  "kernelspec": {
   "display_name": "Python 3",
   "language": "python",
   "name": "python3"
  },
  "language_info": {
   "codemirror_mode": {
    "name": "ipython",
    "version": 3
   },
   "file_extension": ".py",
   "mimetype": "text/x-python",
   "name": "python",
   "nbconvert_exporter": "python",
   "pygments_lexer": "ipython3",
   "version": "3.6.9"
  }
 },
 "nbformat": 4,
 "nbformat_minor": 4
}
