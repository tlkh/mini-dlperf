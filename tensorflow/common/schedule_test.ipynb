{
 "cells": [
  {
   "cell_type": "code",
   "execution_count": 1,
   "metadata": {},
   "outputs": [],
   "source": [
    "import os\n",
    "os.environ[\"CUDA_DEVICE_ORDER\"] = \"PCI_BUS_ID\"\n",
    "os.environ[\"CUDA_VISIBLE_DEVICES\"] = \"\""
   ]
  },
  {
   "cell_type": "code",
   "execution_count": 2,
   "metadata": {},
   "outputs": [],
   "source": [
    "import numpy as np\n",
    "import tensorflow as tf\n",
    "import schedules\n",
    "from matplotlib import pyplot as plt"
   ]
  },
  {
   "cell_type": "code",
   "execution_count": 3,
   "metadata": {},
   "outputs": [],
   "source": [
    "train_steps = 12\n",
    "\n",
    "warmup_epochs = 5\n",
    "max_epochs = 90\n",
    "\n",
    "schedule = schedules.DecayWithWarmup(\n",
    "    epoch_steps=train_steps,\n",
    "    base_lr=0.5,\n",
    "    min_lr=0.0001,\n",
    "    decay_exp=4,\n",
    "    warmup_epochs=warmup_epochs,\n",
    "    flat_epochs=30,\n",
    "    max_epochs=max_epochs,\n",
    ")"
   ]
  },
  {
   "cell_type": "code",
   "execution_count": 4,
   "metadata": {},
   "outputs": [
    {
     "data": {
      "image/png": "[encoded data removed]",
      "text/plain": [
       "<Figure size 432x288 with 1 Axes>"
      ]
     },
     "metadata": {
      "needs_background": "light"
     },
     "output_type": "display_data"
    }
   ],
   "source": [
    "step_list = [step*train_steps for step in range(90+1)]\n",
    "lr_list = [schedule(step) for step in step_list]\n",
    "\n",
    "plt.title(\"Learning Rate Schedule\")\n",
    "plt.plot(step_list, lr_list)\n",
    "plt.axvline(30*train_steps)\n",
    "plt.axvline(60*train_steps)\n",
    "plt.axvline(80*train_steps)\n",
    "plt.show()"
   ]
  },
  {
   "cell_type": "markdown",
   "metadata": {},
   "source": [
    "**Targets**\n",
    "\n",
    "* 30 : 0.4\n",
    "* 60 : 0.04\n",
    "* 80 : 0.004"
   ]
  },
  {
   "cell_type": "code",
   "execution_count": 5,
   "metadata": {},
   "outputs": [
    {
     "name": "stdout",
     "output_type": "stream",
     "text": [
      "30 0.5001000165939331\n",
      "60 0.10105405747890472\n",
      "80 0.020703446120023727\n"
     ]
    }
   ],
   "source": [
    "for i, lr in enumerate(lr_list):\n",
    "    if i in [30, 60, 80]:\n",
    "        print(i, float(lr))"
   ]
  },
  {
   "cell_type": "code",
   "execution_count": null,
   "metadata": {},
   "outputs": [],
   "source": []
  }
 ],
 "metadata": {
  "kernelspec": {
   "display_name": "Python 3",
   "language": "python",
   "name": "python3"
  },
  "language_info": {
   "codemirror_mode": {
    "name": "ipython",
    "version": 3
   },
   "file_extension": ".py",
   "mimetype": "text/x-python",
   "name": "python",
   "nbconvert_exporter": "python",
   "pygments_lexer": "ipython3",
   "version": "3.6.10"
  }
 },
 "nbformat": 4,
 "nbformat_minor": 4
}
